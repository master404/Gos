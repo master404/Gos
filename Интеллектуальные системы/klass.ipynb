{
 "cells": [
  {
   "cell_type": "code",
   "execution_count": 10,
   "metadata": {
    "collapsed": false
   },
   "outputs": [],
   "source": [
    "from sklearn import metrics\n",
    "from sklearn.svm import SVC\n",
    "from sklearn.datasets import load_iris\n",
    "\n",
    "iris = load_iris()\n",
    "X = iris.data\n",
    "Y = iris.target"
   ]
  },
  {
   "cell_type": "code",
   "execution_count": 15,
   "metadata": {
    "collapsed": false
   },
   "outputs": [
    {
     "name": "stdout",
     "output_type": "stream",
     "text": [
      "Тест номер  1 \tРезультат  1.0 \n",
      " [[6 0 0]\n",
      " [0 6 0]\n",
      " [0 0 3]]\n",
      "Тест номер  2 \tРезультат  1.0 \n",
      " [[3 0 0]\n",
      " [0 8 0]\n",
      " [0 0 4]]\n",
      "Тест номер  3 \tРезультат  1.0 \n",
      " [[3 0 0]\n",
      " [0 7 0]\n",
      " [0 0 5]]\n",
      "Тест номер  4 \tРезультат  1.0 \n",
      " [[6 0 0]\n",
      " [0 2 0]\n",
      " [0 0 7]]\n",
      "Тест номер  5 \tРезультат  1.0 \n",
      " [[5 0 0]\n",
      " [0 2 0]\n",
      " [0 0 8]]\n",
      "Тест номер  6 \tРезультат  0.933333333333 \n",
      " [[5 0 0]\n",
      " [0 5 1]\n",
      " [0 0 4]]\n",
      "Тест номер  7 \tРезультат  0.933333333333 \n",
      " [[6 0 0]\n",
      " [0 4 0]\n",
      " [0 1 4]]\n",
      "Тест номер  8 \tРезультат  0.933333333333 \n",
      " [[5 0 0]\n",
      " [0 5 1]\n",
      " [0 0 4]]\n",
      "Тест номер  9 \tРезультат  0.933333333333 \n",
      " [[6 0 0]\n",
      " [0 4 1]\n",
      " [0 0 4]]\n",
      "Тест номер  10 \tРезультат  0.866666666667 \n",
      " [[5 0 0]\n",
      " [0 4 0]\n",
      " [0 2 4]]\n"
     ]
    }
   ],
   "source": [
    "from sklearn.cross_validation import KFold\n",
    "from sklearn.metrics import mean_squared_error\n",
    "\n",
    "kf = KFold(len(X), n_folds=10, shuffle=True)\n",
    "k=0\n",
    "for train_index, test_index in kf:\n",
    "    X_train, X_test = X[train_index], X[test_index]\n",
    "    Y_train, Y_test = Y[train_index], Y[test_index]\n",
    "    model = SVC()\n",
    "    model.fit(X_train,Y_train)\n",
    "    Y_pred = model.predict(X_test)\n",
    "    k+=1\n",
    "    print(\"Тест номер \",k,\"\\tРезультат \",sum(Y_pred == Y_test) / len(Y_test),\"\\n\", metrics.confusion_matrix(Y_test, Y_pred))"
   ]
  }
 ],
 "metadata": {
  "kernelspec": {
   "display_name": "Python 3",
   "language": "python",
   "name": "python3"
  },
  "language_info": {
   "codemirror_mode": {
    "name": "ipython",
    "version": 3
   },
   "file_extension": ".py",
   "mimetype": "text/x-python",
   "name": "python",
   "nbconvert_exporter": "python",
   "pygments_lexer": "ipython3",
   "version": "3.5.0"
  }
 },
 "nbformat": 4,
 "nbformat_minor": 0
}

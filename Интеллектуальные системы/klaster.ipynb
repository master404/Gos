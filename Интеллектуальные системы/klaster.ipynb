{
 "cells": [
  {
   "cell_type": "code",
   "execution_count": 18,
   "metadata": {
    "collapsed": true
   },
   "outputs": [],
   "source": [
    "import numpy as np\n",
    "\n",
    "from sklearn.cluster import KMeans\n",
    "from sklearn.datasets import load_iris\n",
    "from sklearn import cross_validation\n"
   ]
  },
  {
   "cell_type": "code",
   "execution_count": 19,
   "metadata": {
    "collapsed": true
   },
   "outputs": [],
   "source": [
    "iris = load_iris()\n",
    "X = iris.data\n",
    "Y = iris.target"
   ]
  },
  {
   "cell_type": "code",
   "execution_count": 27,
   "metadata": {
    "collapsed": false
   },
   "outputs": [
    {
     "name": "stdout",
     "output_type": "stream",
     "text": [
      "Тест номер  1 \tРезультат  0.733333333333\n",
      "Тест номер  2 \tРезультат  0.4\n",
      "Тест номер  3 \tРезультат  0.266666666667\n",
      "Тест номер  4 \tРезультат  1.0\n",
      "Тест номер  5 \tРезультат  1.0\n",
      "Тест номер  6 \tРезультат  0.933333333333\n",
      "Тест номер  7 \tРезультат  0.133333333333\n",
      "Тест номер  8 \tРезультат  0.133333333333\n",
      "Тест номер  9 \tРезультат  0.4\n",
      "Тест номер  10 \tРезультат  0.2\n"
     ]
    }
   ],
   "source": [
    "from sklearn.cross_validation import KFold\n",
    "kf = KFold(len(X), n_folds=10, shuffle=True)\n",
    "k=0\n",
    "for train_index, test_index in kf:\n",
    "    X_train, X_test = X[train_index], X[test_index]\n",
    "    Y_train, Y_test = Y[train_index], Y[test_index]\n",
    "    kmeans_model = KMeans(init='k-means++',n_clusters=3, random_state=1)\n",
    "    kmeans_model.fit(X_train)\n",
    "    Y_pred = kmeans_model.predict(X_test)\n",
    "    k+=1\n",
    "    print(\"Тест номер \",k,\"\\tРезультат \",sum(Y_pred == Y_test) / len(Y_test))"
   ]
  },
  {
   "cell_type": "code",
   "execution_count": null,
   "metadata": {
    "collapsed": true
   },
   "outputs": [],
   "source": []
  }
 ],
 "metadata": {
  "kernelspec": {
   "display_name": "Python 3",
   "language": "python",
   "name": "python3"
  },
  "language_info": {
   "codemirror_mode": {
    "name": "ipython",
    "version": 3
   },
   "file_extension": ".py",
   "mimetype": "text/x-python",
   "name": "python",
   "nbconvert_exporter": "python",
   "pygments_lexer": "ipython3",
   "version": "3.5.0"
  }
 },
 "nbformat": 4,
 "nbformat_minor": 0
}

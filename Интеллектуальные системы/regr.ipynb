{
 "cells": [
  {
   "cell_type": "code",
   "execution_count": 166,
   "metadata": {
    "collapsed": true
   },
   "outputs": [],
   "source": [
    "import sklearn as sl\n",
    "import numpy as np\n",
    "\n",
    "from sklearn.datasets import load_diabetes"
   ]
  },
  {
   "cell_type": "code",
   "execution_count": 167,
   "metadata": {
    "collapsed": true
   },
   "outputs": [],
   "source": [
    "diabetes = load_diabetes()"
   ]
  },
  {
   "cell_type": "code",
   "execution_count": 168,
   "metadata": {
    "collapsed": false
   },
   "outputs": [],
   "source": [
    "X = diabetes.data[:, 6]"
   ]
  },
  {
   "cell_type": "code",
   "execution_count": 169,
   "metadata": {
    "collapsed": true
   },
   "outputs": [],
   "source": [
    "Y = diabetes.target"
   ]
  },
  {
   "cell_type": "code",
   "execution_count": 170,
   "metadata": {
    "collapsed": true
   },
   "outputs": [],
   "source": [
    "import matplotlib.pyplot as pl\n",
    "%matplotlib inline"
   ]
  },
  {
   "cell_type": "code",
   "execution_count": 171,
   "metadata": {
    "collapsed": false
   },
   "outputs": [
    {
     "data": {
      "text/plain": [
       "[<matplotlib.lines.Line2D at 0xc654d30>]"
      ]
     },
     "execution_count": 171,
     "metadata": {},
     "output_type": "execute_result"
    },
    {
     "data": {
      "image/png": "[encoded data removed]",
      "text/plain": [
       "<matplotlib.figure.Figure at 0xc634908>"
      ]
     },
     "metadata": {},
     "output_type": "display_data"
    }
   ],
   "source": [
    "pl.plot(X, Y, '.')"
   ]
  },
  {
   "cell_type": "code",
   "execution_count": 177,
   "metadata": {
    "collapsed": false
   },
   "outputs": [
    {
     "name": "stdout",
     "output_type": "stream",
     "text": [
      "Тест номер  1 \tСреднеквадратическое отклонение  5897.47622644\n",
      "Тест номер  2 \tСреднеквадратическое отклонение  6263.86523016\n",
      "Тест номер  3 \tСреднеквадратическое отклонение  8677.29330291\n",
      "Тест номер  4 \tСреднеквадратическое отклонение  4780.58469372\n",
      "Тест номер  5 \tСреднеквадратическое отклонение  4007.33839086\n",
      "Тест номер  6 \tСреднеквадратическое отклонение  5172.59275246\n",
      "Тест номер  7 \tСреднеквадратическое отклонение  7435.04245078\n",
      "Тест номер  8 \tСреднеквадратическое отклонение  5504.27002437\n",
      "Тест номер  9 \tСреднеквадратическое отклонение  7791.94730819\n",
      "Тест номер  10 \tСреднеквадратическое отклонение  5564.95665354\n"
     ]
    }
   ],
   "source": [
    "from sklearn.preprocessing import normalize\n",
    "from sklearn.svm import SVR\n",
    "from sklearn.cross_validation import KFold\n",
    "from sklearn.metrics import mean_squared_error\n",
    "\n",
    "kf = KFold(len(X), n_folds=10, shuffle=True)\n",
    "k=0\n",
    "for train_index, test_index in kf:\n",
    "    X_train, X_test = X[train_index], X[test_index]\n",
    "    Y_train, Y_test = Y[train_index], Y[test_index]\n",
    "    svr = SVR(kernel='poly', C=1e3, degree=2)\n",
    "    svr.fit(X_train.reshape(-1,1), Y_train)\n",
    "    Y_pred = svr.predict(X_test.reshape(-1,1))\n",
    "    k+=1\n",
    "    print(\"Тест номер \",k,\"\\tСреднеквадратическое отклонение \", mean_squared_error(Y_test, Y_pred))\n",
    "   "
   ]
  }
 ],
 "metadata": {
  "kernelspec": {
   "display_name": "Python 3",
   "language": "python",
   "name": "python3"
  },
  "language_info": {
   "codemirror_mode": {
    "name": "ipython",
    "version": 3
   },
   "file_extension": ".py",
   "mimetype": "text/x-python",
   "name": "python",
   "nbconvert_exporter": "python",
   "pygments_lexer": "ipython3",
   "version": "3.5.0"
  }
 },
 "nbformat": 4,
 "nbformat_minor": 0
}
